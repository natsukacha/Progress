{
 "cells": [
  {
   "cell_type": "code",
   "execution_count": 7,
   "metadata": {},
   "outputs": [
    {
     "name": "stdout",
     "output_type": "stream",
     "text": [
      "thread = 1 warning: parsed expected 321 columns, but didn't reach end of line on data row: 1. Ignoring any extra columns on this row\n",
      "thread = 1 warning: only found 221 / 321 columns on data row: 2. Filling remaining columns with `missing`\n",
      "thread = 1 warning: parsed expected 321 columns, but didn't reach end of line on data row: 3. Ignoring any extra columns on this row\n",
      "thread = 1 warning: parsed expected 321 columns, but didn't reach end of line on data row: 4. Ignoring any extra columns on this row\n",
      "thread = 1 warning: only found 315 / 321 columns on data row: 5. Filling remaining columns with `missing`\n",
      "thread = 1 warning: only found 230 / 321 columns on data row: 6. Filling remaining columns with `missing`\n",
      "thread = 1 warning: parsed expected 321 columns, but didn't reach end of line on data row: 7. Ignoring any extra columns on this row\n",
      "thread = 1 warning: parsed expected 321 columns, but didn't reach end of line on data row: 8. Ignoring any extra columns on this row\n",
      "thread = 1 warning: only found 230 / 321 columns on data row: 9. Filling remaining columns with `missing`\n",
      "thread = 1 warning: only found 115 / 321 columns on data row: 10. Filling remaining columns with `missing`\n",
      "thread = 1 warning: only found 255 / 321 columns on data row: 11. Filling remaining columns with `missing`\n",
      "thread = 1 warning: only found 204 / 321 columns on data row: 12. Filling remaining columns with `missing`\n",
      "thread = 1 warning: only found 178 / 321 columns on data row: 13. Filling remaining columns with `missing`\n",
      "thread = 1 warning: parsed expected 321 columns, but didn't reach end of line on data row: 14. Ignoring any extra columns on this row\n",
      "thread = 1 warning: parsed expected 321 columns, but didn't reach end of line on data row: 15. Ignoring any extra columns on this row\n",
      "thread = 1 warning: parsed expected 321 columns, but didn't reach end of line on data row: 16. Ignoring any extra columns on this row\n",
      "thread = 1 warning: only found 286 / 321 columns on data row: 17. Filling remaining columns with `missing`\n",
      "thread = 1 warning: parsed expected 321 columns, but didn't reach end of line on data row: 18. Ignoring any extra columns on this row\n",
      "thread = 1 warning: only found 296 / 321 columns on data row: 19. Filling remaining columns with `missing`\n",
      "thread = 1 warning: parsed expected 321 columns, but didn't reach end of line on data row: 20. Ignoring any extra columns on this row\n",
      "thread = 1 warning: only found 205 / 321 columns on data row: 21. Filling remaining columns with `missing`\n",
      "thread = 1 warning: only found 145 / 321 columns on data row: 22. Filling remaining columns with `missing`\n",
      "thread = 1 warning: parsed expected 321 columns, but didn't reach end of line on data row: 23. Ignoring any extra columns on this row\n",
      "thread = 1 warning: parsed expected 321 columns, but didn't reach end of line on data row: 24. Ignoring any extra columns on this row\n",
      "thread = 1 warning: only found 296 / 321 columns on data row: 25. Filling remaining columns with `missing`\n",
      "thread = 1 warning: parsed expected 321 columns, but didn't reach end of line on data row: 26. Ignoring any extra columns on this row\n",
      "thread = 1 warning: parsed expected 321 columns, but didn't reach end of line on data row: 27. Ignoring any extra columns on this row\n",
      "thread = 1 warning: parsed expected 321 columns, but didn't reach end of line on data row: 28. Ignoring any extra columns on this row\n",
      "thread = 1 warning: only found 265 / 321 columns on data row: 29. Filling remaining columns with `missing`\n",
      "thread = 1 warning: only found 211 / 321 columns on data row: 30. Filling remaining columns with `missing`\n",
      "thread = 1 warning: only found 227 / 321 columns on data row: 31. Filling remaining columns with `missing`\n",
      "thread = 1 warning: only found 211 / 321 columns on data row: 32. Filling remaining columns with `missing`\n",
      "thread = 1 warning: parsed expected 321 columns, but didn't reach end of line on data row: 33. Ignoring any extra columns on this row\n",
      "thread = 1 warning: parsed expected 321 columns, but didn't reach end of line on data row: 34. Ignoring any extra columns on this row\n",
      "thread = 1 warning: only found 281 / 321 columns on data row: 35. Filling remaining columns with `missing`\n",
      "thread = 1 warning: parsed expected 321 columns, but didn't reach end of line on data row: 36. Ignoring any extra columns on this row\n",
      "thread = 1 warning: parsed expected 321 columns, but didn't reach end of line on data row: 37. Ignoring any extra columns on this row\n",
      "thread = 1 warning: parsed expected 321 columns, but didn't reach end of line on data row: 38. Ignoring any extra columns on this row\n",
      "thread = 1 warning: parsed expected 321 columns, but didn't reach end of line on data row: 39. Ignoring any extra columns on this row\n",
      "thread = 1 warning: parsed expected 321 columns, but didn't reach end of line on data row: 40. Ignoring any extra columns on this row\n",
      "thread = 1 warning: parsed expected 321 columns, but didn't reach end of line on data row: 41. Ignoring any extra columns on this row\n",
      "thread = 1 warning: parsed expected 321 columns, but didn't reach end of line on data row: 42. Ignoring any extra columns on this row\n",
      "thread = 1 warning: parsed expected 321 columns, but didn't reach end of line on data row: 43. Ignoring any extra columns on this row\n",
      "thread = 1 warning: parsed expected 321 columns, but didn't reach end of line on data row: 44. Ignoring any extra columns on this row\n",
      "thread = 1 warning: parsed expected 321 columns, but didn't reach end of line on data row: 45. Ignoring any extra columns on this row\n",
      "thread = 1 warning: only found 301 / 321 columns on data row: 46. Filling remaining columns with `missing`\n",
      "thread = 1 warning: only found 210 / 321 columns on data row: 47. Filling remaining columns with `missing`\n",
      "thread = 1 warning: parsed expected 321 columns, but didn't reach end of line on data row: 48. Ignoring any extra columns on this row\n",
      "thread = 1 warning: parsed expected 321 columns, but didn't reach end of line on data row: 49. Ignoring any extra columns on this row\n",
      "thread = 1 warning: parsed expected 321 columns, but didn't reach end of line on data row: 50. Ignoring any extra columns on this row\n",
      "thread = 1 warning: parsed expected 321 columns, but didn't reach end of line on data row: 51. Ignoring any extra columns on this row\n",
      "thread = 1 warning: parsed expected 321 columns, but didn't reach end of line on data row: 52. Ignoring any extra columns on this row\n",
      "thread = 1 warning: only found 287 / 321 columns on data row: 53. Filling remaining columns with `missing`\n",
      "thread = 1 warning: parsed expected 321 columns, but didn't reach end of line on data row: 54. Ignoring any extra columns on this row\n",
      "thread = 1 warning: only found 294 / 321 columns on data row: 55. Filling remaining columns with `missing`\n",
      "thread = 1 warning: only found 192 / 321 columns on data row: 56. Filling remaining columns with `missing`\n",
      "thread = 1 warning: only found 85 / 321 columns on data row: 57. Filling remaining columns with `missing`\n",
      "thread = 1 warning: parsed expected 321 columns, but didn't reach end of line on data row: 58. Ignoring any extra columns on this row\n",
      "thread = 1 warning: parsed expected 321 columns, but didn't reach end of line on data row: 59. Ignoring any extra columns on this row\n"
     ]
    },
    {
     "data": {
      "text/html": [
       "<table class=\"data-frame\"><thead><tr><th></th><th>7056</th><th>7057</th><th>7058</th><th>7059</th><th>7060</th><th>7061</th><th>7204</th><th>7205</th><th>7206</th><th>7207</th><th>7208</th><th>7209</th></tr><tr><th></th><th>Int64</th><th>Int64</th><th>Int64</th><th>Int64</th><th>Int64</th><th>Int64</th><th>Int64</th><th>Int64</th><th>Int64</th><th>Int64</th><th>Int64</th><th>Int64</th></tr></thead><tbody><p>59 rows × 321 columns (omitted printing of 309 columns)</p><tr><th>1</th><td>6180</td><td>6181</td><td>6330</td><td>6331</td><td>6332</td><td>6333</td><td>6468</td><td>6469</td><td>6470</td><td>6471</td><td>6477</td><td>6478</td></tr><tr><th>2</th><td>5009</td><td>5153</td><td>5154</td><td>5155</td><td>5156</td><td>5157</td><td>5158</td><td>5159</td><td>5160</td><td>5161</td><td>5300</td><td>5301</td></tr><tr><th>3</th><td>3646</td><td>3647</td><td>3648</td><td>3650</td><td>3651</td><td>3652</td><td>3794</td><td>3795</td><td>3796</td><td>3797</td><td>3798</td><td>3799</td></tr><tr><th>4</th><td>6503</td><td>6504</td><td>6646</td><td>6647</td><td>6648</td><td>6649</td><td>6650</td><td>6651</td><td>6652</td><td>6653</td><td>6654</td><td>6655</td></tr><tr><th>5</th><td>64</td><td>65</td><td>66</td><td>69</td><td>70</td><td>71</td><td>72</td><td>73</td><td>74</td><td>214</td><td>215</td><td>216</td></tr><tr><th>6</th><td>5110</td><td>5111</td><td>5112</td><td>5255</td><td>5256</td><td>5257</td><td>5258</td><td>5259</td><td>5260</td><td>5261</td><td>5262</td><td>5263</td></tr><tr><th>7</th><td>6811</td><td>6812</td><td>6813</td><td>6816</td><td>6817</td><td>6821</td><td>6959</td><td>6960</td><td>6961</td><td>6962</td><td>6963</td><td>6964</td></tr><tr><th>8</th><td>2109</td><td>2110</td><td>2111</td><td>2257</td><td>2258</td><td>2259</td><td>2260</td><td>2261</td><td>2262</td><td>2406</td><td>2407</td><td>2408</td></tr><tr><th>9</th><td>8563</td><td>8564</td><td>8565</td><td>8566</td><td>8712</td><td>8713</td><td>8714</td><td>8715</td><td>8716</td><td>8717</td><td>8860</td><td>8861</td></tr><tr><th>10</th><td>6314</td><td>6315</td><td>6316</td><td>6462</td><td>6463</td><td>6464</td><td>6465</td><td>6466</td><td>6467</td><td>6610</td><td>6611</td><td>6612</td></tr><tr><th>11</th><td>5141</td><td>5142</td><td>5143</td><td>5144</td><td>5145</td><td>5291</td><td>5292</td><td>5293</td><td>5294</td><td>5295</td><td>5296</td><td>5297</td></tr><tr><th>12</th><td>8154</td><td>8155</td><td>8156</td><td>8157</td><td>8303</td><td>8304</td><td>8305</td><td>8306</td><td>8307</td><td>8308</td><td>8450</td><td>8451</td></tr><tr><th>13</th><td>8866</td><td>9015</td><td>9016</td><td>9017</td><td>9018</td><td>9019</td><td>9020</td><td>9021</td><td>9164</td><td>9165</td><td>9166</td><td>9167</td></tr><tr><th>14</th><td>11448</td><td>11595</td><td>11596</td><td>11597</td><td>11598</td><td>11599</td><td>11600</td><td>11601</td><td>11602</td><td>11744</td><td>11745</td><td>11746</td></tr><tr><th>15</th><td>10073</td><td>10075</td><td>10076</td><td>10077</td><td>10221</td><td>10222</td><td>10223</td><td>10224</td><td>10225</td><td>10226</td><td>10227</td><td>10228</td></tr><tr><th>16</th><td>12319</td><td>12467</td><td>12468</td><td>12469</td><td>12470</td><td>12471</td><td>12473</td><td>12474</td><td>12476</td><td>12478</td><td>12616</td><td>12617</td></tr><tr><th>17</th><td>11277</td><td>11278</td><td>11279</td><td>11280</td><td>11281</td><td>11282</td><td>11283</td><td>11425</td><td>11426</td><td>11427</td><td>11428</td><td>11429</td></tr><tr><th>18</th><td>18047</td><td>18048</td><td>18049</td><td>18050</td><td>18196</td><td>18197</td><td>18198</td><td>18199</td><td>18200</td><td>18201</td><td>18202</td><td>18345</td></tr><tr><th>19</th><td>20003</td><td>20004</td><td>20005</td><td>20006</td><td>20007</td><td>20149</td><td>20150</td><td>20151</td><td>20152</td><td>20153</td><td>20154</td><td>20155</td></tr><tr><th>20</th><td>16069</td><td>16216</td><td>16217</td><td>16218</td><td>16219</td><td>16220</td><td>16221</td><td>16226</td><td>16227</td><td>16228</td><td>16229</td><td>16230</td></tr><tr><th>21</th><td>16849</td><td>16850</td><td>16851</td><td>16852</td><td>16853</td><td>16998</td><td>16999</td><td>17000</td><td>17001</td><td>17002</td><td>17003</td><td>17004</td></tr><tr><th>22</th><td>18499</td><td>18647</td><td>18648</td><td>18649</td><td>18796</td><td>18797</td><td>18798</td><td>18799</td><td>18944</td><td>18945</td><td>18946</td><td>18947</td></tr><tr><th>23</th><td>4584</td><td>4585</td><td>4586</td><td>4587</td><td>4588</td><td>4590</td><td>4591</td><td>4733</td><td>4734</td><td>4735</td><td>4736</td><td>4737</td></tr><tr><th>24</th><td>2949</td><td>2950</td><td>2951</td><td>2952</td><td>2953</td><td>2954</td><td>2955</td><td>2956</td><td>2957</td><td>2958</td><td>3095</td><td>3096</td></tr><tr><th>25</th><td>4160</td><td>4308</td><td>4309</td><td>4310</td><td>4311</td><td>4445</td><td>4446</td><td>4447</td><td>4449</td><td>4450</td><td>4451</td><td>4452</td></tr><tr><th>26</th><td>7134</td><td>7135</td><td>7136</td><td>7138</td><td>7283</td><td>7284</td><td>7285</td><td>7286</td><td>7287</td><td>7288</td><td>7289</td><td>7290</td></tr><tr><th>27</th><td>1151</td><td>1152</td><td>1153</td><td>1154</td><td>1155</td><td>1156</td><td>1157</td><td>1158</td><td>1159</td><td>1160</td><td>1299</td><td>1300</td></tr><tr><th>28</th><td>5644</td><td>5645</td><td>5646</td><td>5647</td><td>5648</td><td>5649</td><td>5650</td><td>5651</td><td>5652</td><td>5657</td><td>5794</td><td>5795</td></tr><tr><th>29</th><td>6247</td><td>6248</td><td>6396</td><td>6397</td><td>6398</td><td>6399</td><td>6545</td><td>6546</td><td>6547</td><td>6548</td><td>6549</td><td>6550</td></tr><tr><th>30</th><td>7124</td><td>7125</td><td>7126</td><td>7127</td><td>7273</td><td>7274</td><td>7275</td><td>7276</td><td>7277</td><td>7278</td><td>7423</td><td>7424</td></tr><tr><th>&vellip;</th><td>&vellip;</td><td>&vellip;</td><td>&vellip;</td><td>&vellip;</td><td>&vellip;</td><td>&vellip;</td><td>&vellip;</td><td>&vellip;</td><td>&vellip;</td><td>&vellip;</td><td>&vellip;</td><td>&vellip;</td></tr></tbody></table>"
      ],
      "text/latex": [
       "\\begin{tabular}{r|ccccccccccccc}\n",
       "\t& 7056 & 7057 & 7058 & 7059 & 7060 & 7061 & 7204 & 7205 & 7206 & 7207 & 7208 & 7209 & \\\\\n",
       "\t\\hline\n",
       "\t& Int64 & Int64 & Int64 & Int64 & Int64 & Int64 & Int64 & Int64 & Int64 & Int64 & Int64 & Int64 & \\\\\n",
       "\t\\hline\n",
       "\t1 & 6180 & 6181 & 6330 & 6331 & 6332 & 6333 & 6468 & 6469 & 6470 & 6471 & 6477 & 6478 & $\\dots$ \\\\\n",
       "\t2 & 5009 & 5153 & 5154 & 5155 & 5156 & 5157 & 5158 & 5159 & 5160 & 5161 & 5300 & 5301 & $\\dots$ \\\\\n",
       "\t3 & 3646 & 3647 & 3648 & 3650 & 3651 & 3652 & 3794 & 3795 & 3796 & 3797 & 3798 & 3799 & $\\dots$ \\\\\n",
       "\t4 & 6503 & 6504 & 6646 & 6647 & 6648 & 6649 & 6650 & 6651 & 6652 & 6653 & 6654 & 6655 & $\\dots$ \\\\\n",
       "\t5 & 64 & 65 & 66 & 69 & 70 & 71 & 72 & 73 & 74 & 214 & 215 & 216 & $\\dots$ \\\\\n",
       "\t6 & 5110 & 5111 & 5112 & 5255 & 5256 & 5257 & 5258 & 5259 & 5260 & 5261 & 5262 & 5263 & $\\dots$ \\\\\n",
       "\t7 & 6811 & 6812 & 6813 & 6816 & 6817 & 6821 & 6959 & 6960 & 6961 & 6962 & 6963 & 6964 & $\\dots$ \\\\\n",
       "\t8 & 2109 & 2110 & 2111 & 2257 & 2258 & 2259 & 2260 & 2261 & 2262 & 2406 & 2407 & 2408 & $\\dots$ \\\\\n",
       "\t9 & 8563 & 8564 & 8565 & 8566 & 8712 & 8713 & 8714 & 8715 & 8716 & 8717 & 8860 & 8861 & $\\dots$ \\\\\n",
       "\t10 & 6314 & 6315 & 6316 & 6462 & 6463 & 6464 & 6465 & 6466 & 6467 & 6610 & 6611 & 6612 & $\\dots$ \\\\\n",
       "\t11 & 5141 & 5142 & 5143 & 5144 & 5145 & 5291 & 5292 & 5293 & 5294 & 5295 & 5296 & 5297 & $\\dots$ \\\\\n",
       "\t12 & 8154 & 8155 & 8156 & 8157 & 8303 & 8304 & 8305 & 8306 & 8307 & 8308 & 8450 & 8451 & $\\dots$ \\\\\n",
       "\t13 & 8866 & 9015 & 9016 & 9017 & 9018 & 9019 & 9020 & 9021 & 9164 & 9165 & 9166 & 9167 & $\\dots$ \\\\\n",
       "\t14 & 11448 & 11595 & 11596 & 11597 & 11598 & 11599 & 11600 & 11601 & 11602 & 11744 & 11745 & 11746 & $\\dots$ \\\\\n",
       "\t15 & 10073 & 10075 & 10076 & 10077 & 10221 & 10222 & 10223 & 10224 & 10225 & 10226 & 10227 & 10228 & $\\dots$ \\\\\n",
       "\t16 & 12319 & 12467 & 12468 & 12469 & 12470 & 12471 & 12473 & 12474 & 12476 & 12478 & 12616 & 12617 & $\\dots$ \\\\\n",
       "\t17 & 11277 & 11278 & 11279 & 11280 & 11281 & 11282 & 11283 & 11425 & 11426 & 11427 & 11428 & 11429 & $\\dots$ \\\\\n",
       "\t18 & 18047 & 18048 & 18049 & 18050 & 18196 & 18197 & 18198 & 18199 & 18200 & 18201 & 18202 & 18345 & $\\dots$ \\\\\n",
       "\t19 & 20003 & 20004 & 20005 & 20006 & 20007 & 20149 & 20150 & 20151 & 20152 & 20153 & 20154 & 20155 & $\\dots$ \\\\\n",
       "\t20 & 16069 & 16216 & 16217 & 16218 & 16219 & 16220 & 16221 & 16226 & 16227 & 16228 & 16229 & 16230 & $\\dots$ \\\\\n",
       "\t21 & 16849 & 16850 & 16851 & 16852 & 16853 & 16998 & 16999 & 17000 & 17001 & 17002 & 17003 & 17004 & $\\dots$ \\\\\n",
       "\t22 & 18499 & 18647 & 18648 & 18649 & 18796 & 18797 & 18798 & 18799 & 18944 & 18945 & 18946 & 18947 & $\\dots$ \\\\\n",
       "\t23 & 4584 & 4585 & 4586 & 4587 & 4588 & 4590 & 4591 & 4733 & 4734 & 4735 & 4736 & 4737 & $\\dots$ \\\\\n",
       "\t24 & 2949 & 2950 & 2951 & 2952 & 2953 & 2954 & 2955 & 2956 & 2957 & 2958 & 3095 & 3096 & $\\dots$ \\\\\n",
       "\t25 & 4160 & 4308 & 4309 & 4310 & 4311 & 4445 & 4446 & 4447 & 4449 & 4450 & 4451 & 4452 & $\\dots$ \\\\\n",
       "\t26 & 7134 & 7135 & 7136 & 7138 & 7283 & 7284 & 7285 & 7286 & 7287 & 7288 & 7289 & 7290 & $\\dots$ \\\\\n",
       "\t27 & 1151 & 1152 & 1153 & 1154 & 1155 & 1156 & 1157 & 1158 & 1159 & 1160 & 1299 & 1300 & $\\dots$ \\\\\n",
       "\t28 & 5644 & 5645 & 5646 & 5647 & 5648 & 5649 & 5650 & 5651 & 5652 & 5657 & 5794 & 5795 & $\\dots$ \\\\\n",
       "\t29 & 6247 & 6248 & 6396 & 6397 & 6398 & 6399 & 6545 & 6546 & 6547 & 6548 & 6549 & 6550 & $\\dots$ \\\\\n",
       "\t30 & 7124 & 7125 & 7126 & 7127 & 7273 & 7274 & 7275 & 7276 & 7277 & 7278 & 7423 & 7424 & $\\dots$ \\\\\n",
       "\t$\\dots$ & $\\dots$ & $\\dots$ & $\\dots$ & $\\dots$ & $\\dots$ & $\\dots$ & $\\dots$ & $\\dots$ & $\\dots$ & $\\dots$ & $\\dots$ & $\\dots$ &  \\\\\n",
       "\\end{tabular}\n"
      ],
      "text/plain": [
       "59×321 DataFrames.DataFrame. Omitted printing of 312 columns\n",
       "│ Row │ 7056  │ 7057  │ 7058  │ 7059  │ 7060  │ 7061  │ 7204  │ 7205  │ 7206  │\n",
       "│     │ \u001b[90mInt64\u001b[39m │ \u001b[90mInt64\u001b[39m │ \u001b[90mInt64\u001b[39m │ \u001b[90mInt64\u001b[39m │ \u001b[90mInt64\u001b[39m │ \u001b[90mInt64\u001b[39m │ \u001b[90mInt64\u001b[39m │ \u001b[90mInt64\u001b[39m │ \u001b[90mInt64\u001b[39m │\n",
       "├─────┼───────┼───────┼───────┼───────┼───────┼───────┼───────┼───────┼───────┤\n",
       "│ 1   │ 6180  │ 6181  │ 6330  │ 6331  │ 6332  │ 6333  │ 6468  │ 6469  │ 6470  │\n",
       "│ 2   │ 5009  │ 5153  │ 5154  │ 5155  │ 5156  │ 5157  │ 5158  │ 5159  │ 5160  │\n",
       "│ 3   │ 3646  │ 3647  │ 3648  │ 3650  │ 3651  │ 3652  │ 3794  │ 3795  │ 3796  │\n",
       "│ 4   │ 6503  │ 6504  │ 6646  │ 6647  │ 6648  │ 6649  │ 6650  │ 6651  │ 6652  │\n",
       "│ 5   │ 64    │ 65    │ 66    │ 69    │ 70    │ 71    │ 72    │ 73    │ 74    │\n",
       "│ 6   │ 5110  │ 5111  │ 5112  │ 5255  │ 5256  │ 5257  │ 5258  │ 5259  │ 5260  │\n",
       "│ 7   │ 6811  │ 6812  │ 6813  │ 6816  │ 6817  │ 6821  │ 6959  │ 6960  │ 6961  │\n",
       "│ 8   │ 2109  │ 2110  │ 2111  │ 2257  │ 2258  │ 2259  │ 2260  │ 2261  │ 2262  │\n",
       "│ 9   │ 8563  │ 8564  │ 8565  │ 8566  │ 8712  │ 8713  │ 8714  │ 8715  │ 8716  │\n",
       "│ 10  │ 6314  │ 6315  │ 6316  │ 6462  │ 6463  │ 6464  │ 6465  │ 6466  │ 6467  │\n",
       "⋮\n",
       "│ 49  │ 3264  │ 3265  │ 3266  │ 3267  │ 3268  │ 3269  │ 3270  │ 3271  │ 3296  │\n",
       "│ 50  │ 11977 │ 11978 │ 11979 │ 11980 │ 11981 │ 12124 │ 12125 │ 12126 │ 12127 │\n",
       "│ 51  │ 9105  │ 9106  │ 9107  │ 9108  │ 9109  │ 9110  │ 9111  │ 9112  │ 9113  │\n",
       "│ 52  │ 10006 │ 10007 │ 10155 │ 10156 │ 10157 │ 10158 │ 10159 │ 10160 │ 10161 │\n",
       "│ 53  │ 14239 │ 14384 │ 14385 │ 14386 │ 14387 │ 14388 │ 14389 │ 14390 │ 14391 │\n",
       "│ 54  │ 12567 │ 12571 │ 12572 │ 12715 │ 12716 │ 12717 │ 12718 │ 12719 │ 12720 │\n",
       "│ 55  │ 11650 │ 11651 │ 11654 │ 11655 │ 11656 │ 11799 │ 11800 │ 11801 │ 11802 │\n",
       "│ 56  │ 9715  │ 9716  │ 9717  │ 9718  │ 9719  │ 9720  │ 9721  │ 9864  │ 9865  │\n",
       "│ 57  │ 11212 │ 11213 │ 11214 │ 11359 │ 11360 │ 11361 │ 11362 │ 11363 │ 11364 │\n",
       "│ 58  │ 18263 │ 18264 │ 18412 │ 18413 │ 18414 │ 18415 │ 18416 │ 18417 │ 18561 │\n",
       "│ 59  │ 6689  │ 6690  │ 6691  │ 6692  │ 6693  │ 6694  │ 6695  │ 6696  │ 6697  │"
      ]
     },
     "execution_count": 7,
     "metadata": {},
     "output_type": "execute_result"
    }
   ],
   "source": [
    "using CSV\n",
    "caiman_loc=CSV.read( \"caiman_loc.csv\" )"
   ]
  },
  {
   "cell_type": "code",
   "execution_count": 11,
   "metadata": {},
   "outputs": [
    {
     "data": {
      "text/plain": [
       "(59, 321)"
      ]
     },
     "execution_count": 11,
     "metadata": {},
     "output_type": "execute_result"
    }
   ],
   "source": [
    "size(caiman_loc)"
   ]
  },
  {
   "cell_type": "code",
   "execution_count": 16,
   "metadata": {},
   "outputs": [
    {
     "data": {
      "text/html": [
       "<table class=\"data-frame\"><thead><tr><th></th><th>7056</th><th>7057</th><th>7058</th><th>7059</th><th>7060</th><th>7061</th><th>7204</th><th>7205</th><th>7206</th><th>7207</th><th>7208</th><th>7209</th></tr><tr><th></th><th>Int64</th><th>Int64</th><th>Int64</th><th>Int64</th><th>Int64</th><th>Int64</th><th>Int64</th><th>Int64</th><th>Int64</th><th>Int64</th><th>Int64</th><th>Int64</th></tr></thead><tbody><p>59 rows × 321 columns (omitted printing of 309 columns)</p><tr><th>1</th><td>6180</td><td>6181</td><td>6330</td><td>6331</td><td>6332</td><td>6333</td><td>6468</td><td>6469</td><td>6470</td><td>6471</td><td>6477</td><td>6478</td></tr><tr><th>2</th><td>5009</td><td>5153</td><td>5154</td><td>5155</td><td>5156</td><td>5157</td><td>5158</td><td>5159</td><td>5160</td><td>5161</td><td>5300</td><td>5301</td></tr><tr><th>3</th><td>3646</td><td>3647</td><td>3648</td><td>3650</td><td>3651</td><td>3652</td><td>3794</td><td>3795</td><td>3796</td><td>3797</td><td>3798</td><td>3799</td></tr><tr><th>4</th><td>6503</td><td>6504</td><td>6646</td><td>6647</td><td>6648</td><td>6649</td><td>6650</td><td>6651</td><td>6652</td><td>6653</td><td>6654</td><td>6655</td></tr><tr><th>5</th><td>64</td><td>65</td><td>66</td><td>69</td><td>70</td><td>71</td><td>72</td><td>73</td><td>74</td><td>214</td><td>215</td><td>216</td></tr><tr><th>6</th><td>5110</td><td>5111</td><td>5112</td><td>5255</td><td>5256</td><td>5257</td><td>5258</td><td>5259</td><td>5260</td><td>5261</td><td>5262</td><td>5263</td></tr><tr><th>7</th><td>6811</td><td>6812</td><td>6813</td><td>6816</td><td>6817</td><td>6821</td><td>6959</td><td>6960</td><td>6961</td><td>6962</td><td>6963</td><td>6964</td></tr><tr><th>8</th><td>2109</td><td>2110</td><td>2111</td><td>2257</td><td>2258</td><td>2259</td><td>2260</td><td>2261</td><td>2262</td><td>2406</td><td>2407</td><td>2408</td></tr><tr><th>9</th><td>8563</td><td>8564</td><td>8565</td><td>8566</td><td>8712</td><td>8713</td><td>8714</td><td>8715</td><td>8716</td><td>8717</td><td>8860</td><td>8861</td></tr><tr><th>10</th><td>6314</td><td>6315</td><td>6316</td><td>6462</td><td>6463</td><td>6464</td><td>6465</td><td>6466</td><td>6467</td><td>6610</td><td>6611</td><td>6612</td></tr><tr><th>11</th><td>5141</td><td>5142</td><td>5143</td><td>5144</td><td>5145</td><td>5291</td><td>5292</td><td>5293</td><td>5294</td><td>5295</td><td>5296</td><td>5297</td></tr><tr><th>12</th><td>8154</td><td>8155</td><td>8156</td><td>8157</td><td>8303</td><td>8304</td><td>8305</td><td>8306</td><td>8307</td><td>8308</td><td>8450</td><td>8451</td></tr><tr><th>13</th><td>8866</td><td>9015</td><td>9016</td><td>9017</td><td>9018</td><td>9019</td><td>9020</td><td>9021</td><td>9164</td><td>9165</td><td>9166</td><td>9167</td></tr><tr><th>14</th><td>11448</td><td>11595</td><td>11596</td><td>11597</td><td>11598</td><td>11599</td><td>11600</td><td>11601</td><td>11602</td><td>11744</td><td>11745</td><td>11746</td></tr><tr><th>15</th><td>10073</td><td>10075</td><td>10076</td><td>10077</td><td>10221</td><td>10222</td><td>10223</td><td>10224</td><td>10225</td><td>10226</td><td>10227</td><td>10228</td></tr><tr><th>16</th><td>12319</td><td>12467</td><td>12468</td><td>12469</td><td>12470</td><td>12471</td><td>12473</td><td>12474</td><td>12476</td><td>12478</td><td>12616</td><td>12617</td></tr><tr><th>17</th><td>11277</td><td>11278</td><td>11279</td><td>11280</td><td>11281</td><td>11282</td><td>11283</td><td>11425</td><td>11426</td><td>11427</td><td>11428</td><td>11429</td></tr><tr><th>18</th><td>18047</td><td>18048</td><td>18049</td><td>18050</td><td>18196</td><td>18197</td><td>18198</td><td>18199</td><td>18200</td><td>18201</td><td>18202</td><td>18345</td></tr><tr><th>19</th><td>20003</td><td>20004</td><td>20005</td><td>20006</td><td>20007</td><td>20149</td><td>20150</td><td>20151</td><td>20152</td><td>20153</td><td>20154</td><td>20155</td></tr><tr><th>20</th><td>16069</td><td>16216</td><td>16217</td><td>16218</td><td>16219</td><td>16220</td><td>16221</td><td>16226</td><td>16227</td><td>16228</td><td>16229</td><td>16230</td></tr><tr><th>21</th><td>16849</td><td>16850</td><td>16851</td><td>16852</td><td>16853</td><td>16998</td><td>16999</td><td>17000</td><td>17001</td><td>17002</td><td>17003</td><td>17004</td></tr><tr><th>22</th><td>18499</td><td>18647</td><td>18648</td><td>18649</td><td>18796</td><td>18797</td><td>18798</td><td>18799</td><td>18944</td><td>18945</td><td>18946</td><td>18947</td></tr><tr><th>23</th><td>4584</td><td>4585</td><td>4586</td><td>4587</td><td>4588</td><td>4590</td><td>4591</td><td>4733</td><td>4734</td><td>4735</td><td>4736</td><td>4737</td></tr><tr><th>24</th><td>2949</td><td>2950</td><td>2951</td><td>2952</td><td>2953</td><td>2954</td><td>2955</td><td>2956</td><td>2957</td><td>2958</td><td>3095</td><td>3096</td></tr><tr><th>25</th><td>4160</td><td>4308</td><td>4309</td><td>4310</td><td>4311</td><td>4445</td><td>4446</td><td>4447</td><td>4449</td><td>4450</td><td>4451</td><td>4452</td></tr><tr><th>26</th><td>7134</td><td>7135</td><td>7136</td><td>7138</td><td>7283</td><td>7284</td><td>7285</td><td>7286</td><td>7287</td><td>7288</td><td>7289</td><td>7290</td></tr><tr><th>27</th><td>1151</td><td>1152</td><td>1153</td><td>1154</td><td>1155</td><td>1156</td><td>1157</td><td>1158</td><td>1159</td><td>1160</td><td>1299</td><td>1300</td></tr><tr><th>28</th><td>5644</td><td>5645</td><td>5646</td><td>5647</td><td>5648</td><td>5649</td><td>5650</td><td>5651</td><td>5652</td><td>5657</td><td>5794</td><td>5795</td></tr><tr><th>29</th><td>6247</td><td>6248</td><td>6396</td><td>6397</td><td>6398</td><td>6399</td><td>6545</td><td>6546</td><td>6547</td><td>6548</td><td>6549</td><td>6550</td></tr><tr><th>30</th><td>7124</td><td>7125</td><td>7126</td><td>7127</td><td>7273</td><td>7274</td><td>7275</td><td>7276</td><td>7277</td><td>7278</td><td>7423</td><td>7424</td></tr><tr><th>&vellip;</th><td>&vellip;</td><td>&vellip;</td><td>&vellip;</td><td>&vellip;</td><td>&vellip;</td><td>&vellip;</td><td>&vellip;</td><td>&vellip;</td><td>&vellip;</td><td>&vellip;</td><td>&vellip;</td><td>&vellip;</td></tr></tbody></table>"
      ],
      "text/latex": [
       "\\begin{tabular}{r|ccccccccccccc}\n",
       "\t& 7056 & 7057 & 7058 & 7059 & 7060 & 7061 & 7204 & 7205 & 7206 & 7207 & 7208 & 7209 & \\\\\n",
       "\t\\hline\n",
       "\t& Int64 & Int64 & Int64 & Int64 & Int64 & Int64 & Int64 & Int64 & Int64 & Int64 & Int64 & Int64 & \\\\\n",
       "\t\\hline\n",
       "\t1 & 6180 & 6181 & 6330 & 6331 & 6332 & 6333 & 6468 & 6469 & 6470 & 6471 & 6477 & 6478 & $\\dots$ \\\\\n",
       "\t2 & 5009 & 5153 & 5154 & 5155 & 5156 & 5157 & 5158 & 5159 & 5160 & 5161 & 5300 & 5301 & $\\dots$ \\\\\n",
       "\t3 & 3646 & 3647 & 3648 & 3650 & 3651 & 3652 & 3794 & 3795 & 3796 & 3797 & 3798 & 3799 & $\\dots$ \\\\\n",
       "\t4 & 6503 & 6504 & 6646 & 6647 & 6648 & 6649 & 6650 & 6651 & 6652 & 6653 & 6654 & 6655 & $\\dots$ \\\\\n",
       "\t5 & 64 & 65 & 66 & 69 & 70 & 71 & 72 & 73 & 74 & 214 & 215 & 216 & $\\dots$ \\\\\n",
       "\t6 & 5110 & 5111 & 5112 & 5255 & 5256 & 5257 & 5258 & 5259 & 5260 & 5261 & 5262 & 5263 & $\\dots$ \\\\\n",
       "\t7 & 6811 & 6812 & 6813 & 6816 & 6817 & 6821 & 6959 & 6960 & 6961 & 6962 & 6963 & 6964 & $\\dots$ \\\\\n",
       "\t8 & 2109 & 2110 & 2111 & 2257 & 2258 & 2259 & 2260 & 2261 & 2262 & 2406 & 2407 & 2408 & $\\dots$ \\\\\n",
       "\t9 & 8563 & 8564 & 8565 & 8566 & 8712 & 8713 & 8714 & 8715 & 8716 & 8717 & 8860 & 8861 & $\\dots$ \\\\\n",
       "\t10 & 6314 & 6315 & 6316 & 6462 & 6463 & 6464 & 6465 & 6466 & 6467 & 6610 & 6611 & 6612 & $\\dots$ \\\\\n",
       "\t11 & 5141 & 5142 & 5143 & 5144 & 5145 & 5291 & 5292 & 5293 & 5294 & 5295 & 5296 & 5297 & $\\dots$ \\\\\n",
       "\t12 & 8154 & 8155 & 8156 & 8157 & 8303 & 8304 & 8305 & 8306 & 8307 & 8308 & 8450 & 8451 & $\\dots$ \\\\\n",
       "\t13 & 8866 & 9015 & 9016 & 9017 & 9018 & 9019 & 9020 & 9021 & 9164 & 9165 & 9166 & 9167 & $\\dots$ \\\\\n",
       "\t14 & 11448 & 11595 & 11596 & 11597 & 11598 & 11599 & 11600 & 11601 & 11602 & 11744 & 11745 & 11746 & $\\dots$ \\\\\n",
       "\t15 & 10073 & 10075 & 10076 & 10077 & 10221 & 10222 & 10223 & 10224 & 10225 & 10226 & 10227 & 10228 & $\\dots$ \\\\\n",
       "\t16 & 12319 & 12467 & 12468 & 12469 & 12470 & 12471 & 12473 & 12474 & 12476 & 12478 & 12616 & 12617 & $\\dots$ \\\\\n",
       "\t17 & 11277 & 11278 & 11279 & 11280 & 11281 & 11282 & 11283 & 11425 & 11426 & 11427 & 11428 & 11429 & $\\dots$ \\\\\n",
       "\t18 & 18047 & 18048 & 18049 & 18050 & 18196 & 18197 & 18198 & 18199 & 18200 & 18201 & 18202 & 18345 & $\\dots$ \\\\\n",
       "\t19 & 20003 & 20004 & 20005 & 20006 & 20007 & 20149 & 20150 & 20151 & 20152 & 20153 & 20154 & 20155 & $\\dots$ \\\\\n",
       "\t20 & 16069 & 16216 & 16217 & 16218 & 16219 & 16220 & 16221 & 16226 & 16227 & 16228 & 16229 & 16230 & $\\dots$ \\\\\n",
       "\t21 & 16849 & 16850 & 16851 & 16852 & 16853 & 16998 & 16999 & 17000 & 17001 & 17002 & 17003 & 17004 & $\\dots$ \\\\\n",
       "\t22 & 18499 & 18647 & 18648 & 18649 & 18796 & 18797 & 18798 & 18799 & 18944 & 18945 & 18946 & 18947 & $\\dots$ \\\\\n",
       "\t23 & 4584 & 4585 & 4586 & 4587 & 4588 & 4590 & 4591 & 4733 & 4734 & 4735 & 4736 & 4737 & $\\dots$ \\\\\n",
       "\t24 & 2949 & 2950 & 2951 & 2952 & 2953 & 2954 & 2955 & 2956 & 2957 & 2958 & 3095 & 3096 & $\\dots$ \\\\\n",
       "\t25 & 4160 & 4308 & 4309 & 4310 & 4311 & 4445 & 4446 & 4447 & 4449 & 4450 & 4451 & 4452 & $\\dots$ \\\\\n",
       "\t26 & 7134 & 7135 & 7136 & 7138 & 7283 & 7284 & 7285 & 7286 & 7287 & 7288 & 7289 & 7290 & $\\dots$ \\\\\n",
       "\t27 & 1151 & 1152 & 1153 & 1154 & 1155 & 1156 & 1157 & 1158 & 1159 & 1160 & 1299 & 1300 & $\\dots$ \\\\\n",
       "\t28 & 5644 & 5645 & 5646 & 5647 & 5648 & 5649 & 5650 & 5651 & 5652 & 5657 & 5794 & 5795 & $\\dots$ \\\\\n",
       "\t29 & 6247 & 6248 & 6396 & 6397 & 6398 & 6399 & 6545 & 6546 & 6547 & 6548 & 6549 & 6550 & $\\dots$ \\\\\n",
       "\t30 & 7124 & 7125 & 7126 & 7127 & 7273 & 7274 & 7275 & 7276 & 7277 & 7278 & 7423 & 7424 & $\\dots$ \\\\\n",
       "\t$\\dots$ & $\\dots$ & $\\dots$ & $\\dots$ & $\\dots$ & $\\dots$ & $\\dots$ & $\\dots$ & $\\dots$ & $\\dots$ & $\\dots$ & $\\dots$ & $\\dots$ &  \\\\\n",
       "\\end{tabular}\n"
      ],
      "text/plain": [
       "59×321 DataFrames.DataFrame. Omitted printing of 312 columns\n",
       "│ Row │ 7056  │ 7057  │ 7058  │ 7059  │ 7060  │ 7061  │ 7204  │ 7205  │ 7206  │\n",
       "│     │ \u001b[90mInt64\u001b[39m │ \u001b[90mInt64\u001b[39m │ \u001b[90mInt64\u001b[39m │ \u001b[90mInt64\u001b[39m │ \u001b[90mInt64\u001b[39m │ \u001b[90mInt64\u001b[39m │ \u001b[90mInt64\u001b[39m │ \u001b[90mInt64\u001b[39m │ \u001b[90mInt64\u001b[39m │\n",
       "├─────┼───────┼───────┼───────┼───────┼───────┼───────┼───────┼───────┼───────┤\n",
       "│ 1   │ 6180  │ 6181  │ 6330  │ 6331  │ 6332  │ 6333  │ 6468  │ 6469  │ 6470  │\n",
       "│ 2   │ 5009  │ 5153  │ 5154  │ 5155  │ 5156  │ 5157  │ 5158  │ 5159  │ 5160  │\n",
       "│ 3   │ 3646  │ 3647  │ 3648  │ 3650  │ 3651  │ 3652  │ 3794  │ 3795  │ 3796  │\n",
       "│ 4   │ 6503  │ 6504  │ 6646  │ 6647  │ 6648  │ 6649  │ 6650  │ 6651  │ 6652  │\n",
       "│ 5   │ 64    │ 65    │ 66    │ 69    │ 70    │ 71    │ 72    │ 73    │ 74    │\n",
       "│ 6   │ 5110  │ 5111  │ 5112  │ 5255  │ 5256  │ 5257  │ 5258  │ 5259  │ 5260  │\n",
       "│ 7   │ 6811  │ 6812  │ 6813  │ 6816  │ 6817  │ 6821  │ 6959  │ 6960  │ 6961  │\n",
       "│ 8   │ 2109  │ 2110  │ 2111  │ 2257  │ 2258  │ 2259  │ 2260  │ 2261  │ 2262  │\n",
       "│ 9   │ 8563  │ 8564  │ 8565  │ 8566  │ 8712  │ 8713  │ 8714  │ 8715  │ 8716  │\n",
       "│ 10  │ 6314  │ 6315  │ 6316  │ 6462  │ 6463  │ 6464  │ 6465  │ 6466  │ 6467  │\n",
       "⋮\n",
       "│ 49  │ 3264  │ 3265  │ 3266  │ 3267  │ 3268  │ 3269  │ 3270  │ 3271  │ 3296  │\n",
       "│ 50  │ 11977 │ 11978 │ 11979 │ 11980 │ 11981 │ 12124 │ 12125 │ 12126 │ 12127 │\n",
       "│ 51  │ 9105  │ 9106  │ 9107  │ 9108  │ 9109  │ 9110  │ 9111  │ 9112  │ 9113  │\n",
       "│ 52  │ 10006 │ 10007 │ 10155 │ 10156 │ 10157 │ 10158 │ 10159 │ 10160 │ 10161 │\n",
       "│ 53  │ 14239 │ 14384 │ 14385 │ 14386 │ 14387 │ 14388 │ 14389 │ 14390 │ 14391 │\n",
       "│ 54  │ 12567 │ 12571 │ 12572 │ 12715 │ 12716 │ 12717 │ 12718 │ 12719 │ 12720 │\n",
       "│ 55  │ 11650 │ 11651 │ 11654 │ 11655 │ 11656 │ 11799 │ 11800 │ 11801 │ 11802 │\n",
       "│ 56  │ 9715  │ 9716  │ 9717  │ 9718  │ 9719  │ 9720  │ 9721  │ 9864  │ 9865  │\n",
       "│ 57  │ 11212 │ 11213 │ 11214 │ 11359 │ 11360 │ 11361 │ 11362 │ 11363 │ 11364 │\n",
       "│ 58  │ 18263 │ 18264 │ 18412 │ 18413 │ 18414 │ 18415 │ 18416 │ 18417 │ 18561 │\n",
       "│ 59  │ 6689  │ 6690  │ 6691  │ 6692  │ 6693  │ 6694  │ 6695  │ 6696  │ 6697  │"
      ]
     },
     "execution_count": 16,
     "metadata": {},
     "output_type": "execute_result"
    }
   ],
   "source": [
    "caiman_loc"
   ]
  },
  {
   "cell_type": "code",
   "execution_count": null,
   "metadata": {},
   "outputs": [],
   "source": []
  }
 ],
 "metadata": {
  "kernelspec": {
   "display_name": "Julia 1.1.0",
   "language": "julia",
   "name": "julia-1.1"
  },
  "language_info": {
   "file_extension": ".jl",
   "mimetype": "application/julia",
   "name": "julia",
   "version": "1.1.0"
  }
 },
 "nbformat": 4,
 "nbformat_minor": 2
}
