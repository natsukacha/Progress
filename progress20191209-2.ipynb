{
 "cells": [
  {
   "cell_type": "markdown",
   "metadata": {},
   "source": [
    "# compare MIN1PIPE and CaImAn"
   ]
  },
  {
   "cell_type": "code",
   "execution_count": null,
   "metadata": {},
   "outputs": [],
   "source": [
    "import csv\n",
    "from scipy import sparse\n",
    "import numpy as np\n",
    "from PIL import Image\n",
    "import matplotlib.pyplot as plt"
   ]
  },
  {
   "cell_type": "markdown",
   "metadata": {},
   "source": [
    "## get dataste of min1pipe conclutions"
   ]
  },
  {
   "cell_type": "code",
   "execution_count": null,
   "metadata": {},
   "outputs": [],
   "source": [
    "# loaction of neurons\n",
    "min1pipe =[]\n",
    "with open(r\"C:\\Users\\natsu\\Desktop\\sotsuken\\MIN1PIPE\\1030conclution\\location_min1pipe.csv\", encoding='utf-8') as f:\n",
    "    reader = csv.reader(f)\n",
    "    [min1pipe.append(i[0]) for i in reader]\n",
    "\n",
    "min1pipe[0] = 8176\n",
    "min1pipe = np.asarray([int(min1pipe[i]) for i in range(len(min1pipe))])\n",
    "\n",
    "# time spikes\n",
    "\n",
    "filename =r\"C:\\Users\\natsu\\Desktop\\sotsuken\\MIN1PIPE\\1030conclution\\min1pipe_spike.csv\"\n",
    "import pandas as pd\n",
    "\n",
    "df = pd.read_csv(filename)\n",
    "#print(df)\n",
    "min1pipe_spikes = df.values"
   ]
  },
  {
   "cell_type": "markdown",
   "metadata": {},
   "source": [
    "## get dataste of CaImAn conclutions"
   ]
  },
  {
   "cell_type": "code",
   "execution_count": null,
   "metadata": {},
   "outputs": [],
   "source": [
    "# loaction of neurons\n",
    "\n",
    "caiman_location = sparse.load_npz(r\"C:\\Users\\natsu\\CaImAn\\demos\\notebooks\\caiman_conclution.npz\")\n",
    "caiman = [(caiman_location.getcol(n).nonzero()[0]) for n in range(0,61)]\n",
    "\n",
    "caiman =np.asarray(caiman)\n",
    "\n",
    "#caimans pikes (npy.name is bas caution)\n",
    "caiman_spikes = np.load(r\"C:\\Users\\natsu\\CaImAn\\demos\\notebooks\\min1pipe_spikes.npy\")"
   ]
  },
  {
   "cell_type": "markdown",
   "metadata": {},
   "source": [
    "## 最近傍の計算"
   ]
  },
  {
   "cell_type": "code",
   "execution_count": null,
   "metadata": {},
   "outputs": [],
   "source": [
    "def loc_dist(m,n):\n",
    "    point=min1pipe[m]\n",
    "    points=caiman[n]\n",
    "    point_x = point/150 \n",
    "    point_y = point%150\n",
    "    points_x =[]\n",
    "    points_y =[]\n",
    "    D = []\n",
    "    j = 0\n",
    "    for i in points:\n",
    "        points_x.append(int(i/150))\n",
    "        points_y.append(i%150)           \n",
    "        X = (points_x[j] - point_x)**2\n",
    "        Y = (points_y[j] - point_y)**2 \n",
    "        D.append((X + Y)**(1/2)) \n",
    "        j +=1\n",
    "    \n",
    "    return(m,n,np.mean(D)) "
   ]
  },
  {
   "cell_type": "code",
   "execution_count": null,
   "metadata": {},
   "outputs": [],
   "source": [
    "location_dist = np.asarray([[loc_dist(m,n) for n in range(len(caiman))] for m in range(len(min1pipe))])\n",
    "\n",
    "zentai_heikin = np.mean(np.asarray([[location_dist[m][n][-1] for n in range(len(caiman))] for m in range(len(min1pipe))]))\n",
    "zentai_median = np.median(np.asarray([[location_dist[m][n][-1] for n in range(len(caiman))] for m in range(len(min1pipe))]))\n",
    "zentai_hensa = np.std(np.asarray([[location_dist[m][n][-1] for n in range(len(caiman))] for m in range(len(min1pipe))]))\n",
    "zentai_min = np.min(np.asarray([[location_dist[m][n][-1] for n in range(len(caiman))] for m in range(len(min1pipe))]))\n",
    "zentai_max = np.max(np.asarray([[location_dist[m][n][-1] for n in range(len(caiman))] for m in range(len(min1pipe))]))\n",
    "\n",
    "print(zentai_heikin,\":\",zentai_median,\":\",zentai_hensa,\":\",zentai_min,\";\",zentai_max)"
   ]
  },
  {
   "cell_type": "code",
   "execution_count": null,
   "metadata": {},
   "outputs": [],
   "source": [
    "#caiman側の一番近いニューロンのid\n",
    "print(sortdist[:,0,1])\n",
    "#caiman側と一番近い場合の距離\n",
    "print(sortdist[:,0,2])"
   ]
  },
  {
   "cell_type": "markdown",
   "metadata": {},
   "source": [
    "## 両方の可視化"
   ]
  },
  {
   "cell_type": "code",
   "execution_count": null,
   "metadata": {},
   "outputs": [],
   "source": [
    "from functools import reduce\n",
    "\n",
    "def dynamic_thresh_filter(signal, scaling):\n",
    "    average = reduce(lambda a, x: a + float(x), signal) / len(signal)\n",
    "    # print('average =', average)\n",
    "    thresh = average * scaling\n",
    "    return thresh_filter(signal, thresh)\n",
    "\n",
    "def thresh_filter(signal, thresh):\n",
    "    return [float(x) if float(x) > thresh else 0.0 for x in signal]\n",
    "\n",
    "#Euclid距離\n",
    "def euclid(a,b):\n",
    "    #a,bハlist\n",
    "    # [print('a_elem=', a_elem) if type(a_elem) == str else 0 for a_elem in a]\n",
    "    a, b = map(lambda x: dynamic_thresh_filter(x, 10), (a,b))\n",
    "    # return np.sum([np.abs(float(a[i]) - float(b[i])) for i in range(len(a))])\n",
    "    return np.sqrt(np.sum([(ae - be) ** 2 for ae, be in zip(a,b)]))\n",
    "\n",
    "def comp_with_set(m):\n",
    "    #CaImAn面積候補ヲ複数ダス\n",
    "    c_0 = int(sortdist[:,0,1][m])#mハMIN1PIPEノid\n",
    "    c_1 = int(sortdist[:,1,1][m])\n",
    "    c_2 = int(sortdist[:,2,1][m])\n",
    "    \n",
    "    \n",
    "#------------------------------------------    \n",
    "    #min1pipe_place/red\n",
    "    p = min1pipe[m]\n",
    "    y = int(p//150)\n",
    "    x = int(p%150) \n",
    "    im = np.zeros((150,150,4),dtype=np.uint8)\n",
    "    im[:,:,-1]=250#アルファチャンネルz\n",
    "    im[x][y][:] = 0\n",
    "    \n",
    "    im[x-1][y][:] = 0\n",
    "    im[x-2][y][:] = 0\n",
    "    im[x+1][y][:] = 0\n",
    "    im[x+2][y][:] = 0\n",
    "    im[x][y-1][:] = 0\n",
    "    im[x][y-2][:] = 0\n",
    "    im[x][y+1][:] = 0\n",
    "    im[x][y+2][:] = 0\n",
    "\n",
    "    #caiman_place_0/green\n",
    "    for q in caiman[c_0]:\n",
    "        y = int(q/150)#//\n",
    "        x = int(q%150) \n",
    "        im[x][y][0] = 100#red\n",
    "        pil = Image.fromarray(im) \n",
    "    #caiman_place_2\n",
    "    for q in caiman[c_1]:\n",
    "        y = int(q/150)#//\n",
    "        x = int(q%150) \n",
    "        im[x][y][1] = 100#1 green\n",
    "        pil = Image.fromarray(im)\n",
    "    #caiman_place_2\n",
    "    for q in caiman[c_2]:\n",
    "        y = int(q/150)#//\n",
    "        x = int(q%150) \n",
    "        im[x][y][2] = 100#2 brue\n",
    "        pil = Image.fromarray(im) \n",
    "\n",
    "    cs = [c_0, c_1, c_2]\n",
    "    for i in range(3):\n",
    "        print('{:.2f}'.format(sortdist[m,i,-2],sortdist[m,i,-1]),\"■H\", '{:.1f}'.format(euclid(min1pipe_spikes[m],caiman_spikes[cs[i]]) / 1000), 'K')\n",
    "    # print(sortdist[m,1,-2],sortdist[m,1,-1],\"■H\", euclid(min1pipe_spikes[m],caiman_spikes[c_1]))\n",
    "    # print(sortdist[m,2,-2],sortdist[m,2,-1],\"■H\", euclid(min1pipe_spikes[m],caiman_spikes[c_2]))\n",
    "    \n",
    "    pil = Image.fromarray(im)\n",
    "    plt.imshow(pil)\n",
    "    #min1pipe_spike\n",
    "    plt.figure(figsize=(20,3))\n",
    "    plt.plot(min1pipe_spikes[m],c=\"black\")\n",
    "    plt.show()\n",
    "    #caiman_spike_0\n",
    "    plt.figure(figsize=(20,3))\n",
    "    plt.plot(caiman_spikes[c_0],c=\"red\")\n",
    "    plt.show()\n",
    "    #caiman_spike_1\n",
    "    plt.figure(figsize=(20,3))\n",
    "    plt.plot(caiman_spikes[c_1],c=\"green\")\n",
    "    plt.show()\n",
    "    #caiman_spike_1\n",
    "    plt.figure(figsize=(20,3))\n",
    "    plt.plot(caiman_spikes[c_2],c=\"blue\")\n",
    "    plt.show()"
   ]
  },
  {
   "cell_type": "markdown",
   "metadata": {},
   "source": [
    "## first nerurpn of min1pipe detecting and caimans detected near neurons(3)  "
   ]
  },
  {
   "cell_type": "code",
   "execution_count": null,
   "metadata": {},
   "outputs": [],
   "source": [
    "comp_with_set(0)"
   ]
  },
  {
   "cell_type": "markdown",
   "metadata": {},
   "source": [
    "## second nerurpn of min1pipe detecting and caimans detected near neurons(3)"
   ]
  },
  {
   "cell_type": "code",
   "execution_count": null,
   "metadata": {},
   "outputs": [],
   "source": [
    "comp_with_set(1)"
   ]
  }
 ],
 "metadata": {
  "kernelspec": {
   "display_name": "Julia 1.1.0",
   "language": "julia",
   "name": "julia-1.1"
  },
  "language_info": {
   "file_extension": ".jl",
   "mimetype": "application/julia",
   "name": "julia",
   "version": "1.1.0"
  }
 },
 "nbformat": 4,
 "nbformat_minor": 2
}
